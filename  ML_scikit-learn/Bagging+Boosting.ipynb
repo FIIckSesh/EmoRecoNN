{
 "cells": [
  {
   "cell_type": "code",
   "execution_count": 10,
   "id": "0fbb213f-d3e5-4453-bbfd-7f5d812a7730",
   "metadata": {},
   "outputs": [],
   "source": [
    "import os\n",
    "import logging\n",
    "import sys\n",
    "import random\n",
    "import re\n",
    "import glob\n",
    "import os\n",
    "import numpy\n",
    "from matplotlib import pyplot as plt\n",
    "import itertools\n",
    "import numpy as np\n",
    "import random\n",
    "from random import shuffle\n",
    "import pandas as pd\n",
    "import graphviz\n",
    "\n",
    "from sklearn.ensemble import GradientBoostingClassifier\n",
    "from sklearn.svm import LinearSVC\n",
    "from sklearn import tree\n",
    "from sklearn.ensemble import RandomForestClassifier, BaggingClassifier\n",
    "from sklearn.datasets import make_classification\n",
    "from sklearn.model_selection import cross_val_score, StratifiedKFold, GridSearchCV, train_test_split\n",
    "from sklearn.metrics import classification_report\n",
    "from sklearn.tree import DecisionTreeClassifier\n",
    "from sklearn.metrics import classification_report, confusion_matrix\n",
    "from xgboost import XGBClassifier"
   ]
  },
  {
   "cell_type": "code",
   "execution_count": 11,
   "id": "124bc6e9-32f8-4921-8f26-d25665c9e819",
   "metadata": {},
   "outputs": [],
   "source": [
    "def plot_confusion_matrix(cm, classes, f_size=16, normalize=False, title='Confusion matrix', cmap=plt.cm.Blues):\n",
    "    \"\"\"\n",
    "    This function prints and plots the confusion matrix.\n",
    "    Normalization can be applied by setting 'normalize=True'\n",
    "    \"\"\"\n",
    "    #fig = plt.figure()\n",
    "    #plt.figure(figsize=(20,10))\n",
    "    plt.imshow(cm, interpolation='nearest', cmap=cmap)\n",
    "    plt.title(title, fontsize=f_size + 2)\n",
    "    cb = plt.colorbar()\n",
    "    cb.ax.tick_params(labelsize=f_size - 6)\n",
    "\n",
    "    tick_marks = np.arange(len(classes))\n",
    "    plt.xticks(tick_marks, classes, rotation=90, fontsize=f_size)\n",
    "    plt.yticks(tick_marks, classes, fontsize=f_size)\n",
    "\n",
    "    if normalize:\n",
    "        cm = cm.astype('float') / cm.sum(axis=1)[:, np.newaxis]\n",
    "        #print(\"Normalized confusion matrix\")\n",
    "    else:\n",
    "        pass\n",
    "        #print(\"Confusion matrix, without normalization\")\n",
    "\n",
    "    thresh = cm.max() / 2.\n",
    "    for i, j in itertools.product(range(cm.shape[0]), range(cm.shape[1])):\n",
    "        plt.text(j, i, cm[i, j], horizontalalignment=\"center\",\n",
    "                 color=\"white\" if cm[i, j] > thresh else \"black\", fontsize=f_size)\n",
    "    plt.tight_layout()\n",
    "    plt.ylabel('True class', fontsize=f_size + 1)\n",
    "    plt.xlabel('Predicted class', fontsize=f_size + 1)\n",
    "    plt.show()"
   ]
  },
  {
   "cell_type": "code",
   "execution_count": 4,
   "id": "d6947e74-8959-47ef-a250-8c98d4aeecaf",
   "metadata": {
    "tags": []
   },
   "outputs": [],
   "source": [
    "dist_df = pd.read_csv('train_distance.csv', delimiter=',')\n",
    "test_dist_df = pd.read_csv('test_distance.csv', delimiter=',')\n",
    "\n",
    "l = dist_df.columns.get_loc('0')\n",
    "r = dist_df.columns.get_loc('67')\n",
    "\n",
    "X_dist = dist_df.iloc[:,l:r + 1]\n",
    "test_X_dist = test_dist_df.iloc[:,l:r + 1]\n",
    "y_dist = dist_df['mood.value']\n",
    "test_y_dist = test_dist_df['mood.value']\n",
    "y_dist = y_dist.astype('int')\n",
    "test_y_dist = test_y_dist.astype('int')\n"
   ]
  },
  {
   "cell_type": "code",
   "execution_count": null,
   "id": "f7a85c64-f75f-4c06-a0f4-17e125f1b072",
   "metadata": {
    "tags": []
   },
   "outputs": [],
   "source": [
    "bgc = BaggingClassifier(DecisionTreeClassifier(), random_state=0)\n",
    "params = {'n_estimators': [50, 100, 150, 200, 250, 300, 350, 1000],\n",
    "          'bootstrap': [False, True],\n",
    "          'max_samples': [1, 2, 3, 5, 10],\n",
    "          'max_features': [1, 2, 3, 5, 10],\n",
    "          'bootstrap_features': [True, False],\n",
    "          'oob_score': [True, False],\n",
    "          'warm_start': [True, False],\n",
    "          'random_state': [0, 10, 20, 40, 50]\n",
    "          }\n",
    "bg_cl = GridSearchCV(bgc, params, scoring='f1_macro', verbose=3, n_jobs=-1)\n",
    "bg_cl.fit(X_dist, y_dist)"
   ]
  },
  {
   "cell_type": "code",
   "execution_count": 11,
   "id": "55c9fd04-cb0d-4875-8817-fd817fe25feb",
   "metadata": {},
   "outputs": [
    {
     "name": "stdout",
     "output_type": "stream",
     "text": [
      "              precision    recall  f1-score   support\n",
      "\n",
      "           0       0.33      0.60      0.43        20\n",
      "           1       0.90      0.45      0.60        20\n",
      "           2       0.43      0.15      0.22        20\n",
      "           3       0.56      0.90      0.69        20\n",
      "           4       0.73      0.80      0.76        20\n",
      "           5       0.54      0.70      0.61        20\n",
      "           6       0.14      0.05      0.07        20\n",
      "\n",
      "    accuracy                           0.52       140\n",
      "   macro avg       0.52      0.52      0.48       140\n",
      "weighted avg       0.52      0.52      0.48       140\n",
      "\n"
     ]
    },
    {
     "data": {
      "image/png": "[encoded data removed]",
      "text/plain": [
       "<Figure size 432x288 with 2 Axes>"
      ]
     },
     "metadata": {
      "needs_background": "light"
     },
     "output_type": "display_data"
    }
   ],
   "source": [
    "best = bg_cl.best_estimator_\n",
    "\n",
    "print(classification_report(test_y_dist, best.predict(test_X_dist)))\n",
    "conf_matr = confusion_matrix(test_y_dist, best.predict(test_X_dist))\n",
    "plot_confusion_matrix(conf_matr, ['Нейтральность', 'Злость', 'Грусть', 'Удивление', 'Счастье', 'Отвращение', 'Испуг'], f_size=12)"
   ]
  },
  {
   "cell_type": "code",
   "execution_count": 12,
   "id": "c6303ef0-1c64-4f81-a60e-958ba107ec12",
   "metadata": {},
   "outputs": [
    {
     "data": {
      "text/plain": [
       "{'bootstrap': True,\n",
       " 'bootstrap_features': False,\n",
       " 'max_features': 10,\n",
       " 'max_samples': 10,\n",
       " 'n_estimators': 1000,\n",
       " 'oob_score': True,\n",
       " 'random_state': 40,\n",
       " 'warm_start': False}"
      ]
     },
     "execution_count": 12,
     "metadata": {},
     "output_type": "execute_result"
    }
   ],
   "source": [
    "bg_cl.best_params_"
   ]
  },
  {
   "cell_type": "code",
   "execution_count": null,
   "id": "cfa8c8d3-a06d-489c-b2d7-b6362059c0b5",
   "metadata": {},
   "outputs": [],
   "source": []
  },
  {
   "cell_type": "code",
   "execution_count": 16,
   "id": "673860bc-0626-4fe2-b0bf-95c8e9fa35c8",
   "metadata": {
    "tags": []
   },
   "outputs": [
    {
     "name": "stdout",
     "output_type": "stream",
     "text": [
      "Fitting 5 folds for each of 8 candidates, totalling 40 fits\n"
     ]
    },
    {
     "data": {
      "text/plain": [
       "GridSearchCV(estimator=GradientBoostingClassifier(), n_jobs=-1,\n",
       "             param_grid={'criterion': ['friedman_mse', 'squared_error'],\n",
       "                         'learning_rate': [0.1, 0.01, 0.001, 0.0001],\n",
       "                         'max_depth': [8], 'min_samples_leaf': [2],\n",
       "                         'min_samples_split': [5], 'n_estimators': [100]},\n",
       "             scoring='f1_macro', verbose=3)"
      ]
     },
     "execution_count": 16,
     "metadata": {},
     "output_type": "execute_result"
    }
   ],
   "source": [
    "gb_clf = GradientBoostingClassifier()\n",
    "params = {\n",
    "    'n_estimators': [100], #    'n_estimators': [25, 100, 200],\n",
    "    'learning_rate': [0.1, 0.01, 0.001, 0.0001],\n",
    "    'min_samples_leaf': [2], #'min_samples_leaf': [1, 2, 4, 5],\n",
    "    'max_depth': [8], #    'max_depth': [8, 15, 20, 50],\n",
    "    'min_samples_split': [5], #'min_samples_split': [1, 2, 4, 5],\n",
    "    'criterion': ['friedman_mse', 'squared_error']\n",
    "}\n",
    "\n",
    "ggb_clf = GridSearchCV(gb_clf, params, scoring='f1_macro', verbose=3, n_jobs=-1)\n",
    "ggb_clf.fit(X_dist, y_dist)"
   ]
  },
  {
   "cell_type": "code",
   "execution_count": 17,
   "id": "5dbbe569-c528-4bfb-86aa-5eb21e074ee6",
   "metadata": {},
   "outputs": [
    {
     "data": {
      "text/plain": [
       "{'criterion': 'squared_error',\n",
       " 'learning_rate': 0.1,\n",
       " 'max_depth': 8,\n",
       " 'min_samples_leaf': 2,\n",
       " 'min_samples_split': 5,\n",
       " 'n_estimators': 100}"
      ]
     },
     "execution_count": 17,
     "metadata": {},
     "output_type": "execute_result"
    }
   ],
   "source": [
    "ggb_clf.best_params_"
   ]
  },
  {
   "cell_type": "code",
   "execution_count": 18,
   "id": "ef25cc69-6738-42c7-9b59-46260f495e7f",
   "metadata": {},
   "outputs": [
    {
     "name": "stdout",
     "output_type": "stream",
     "text": [
      "              precision    recall  f1-score   support\n",
      "\n",
      "           0       0.63      0.60      0.62        20\n",
      "           1       0.95      0.90      0.92        20\n",
      "           2       0.57      0.65      0.60        20\n",
      "           3       0.78      0.90      0.84        20\n",
      "           4       0.90      0.95      0.93        20\n",
      "           5       0.83      0.75      0.79        20\n",
      "           6       0.76      0.65      0.70        20\n",
      "\n",
      "    accuracy                           0.77       140\n",
      "   macro avg       0.78      0.77      0.77       140\n",
      "weighted avg       0.78      0.77      0.77       140\n",
      "\n"
     ]
    },
    {
     "data": {
      "image/png": "[encoded data removed]",
      "text/plain": [
       "<Figure size 432x288 with 2 Axes>"
      ]
     },
     "metadata": {
      "needs_background": "light"
     },
     "output_type": "display_data"
    }
   ],
   "source": [
    "best = ggb_clf.best_estimator_\n",
    "\n",
    "print(classification_report(test_y_dist, best.predict(test_X_dist)))\n",
    "conf_matr = confusion_matrix(test_y_dist, best.predict(test_X_dist))\n",
    "plot_confusion_matrix(conf_matr, ['Нейтральность', 'Злость', 'Грусть', 'Удивление', 'Счастье', 'Отвращение', 'Испуг'], f_size=12)"
   ]
  },
  {
   "cell_type": "code",
   "execution_count": null,
   "id": "5922ad2d-5922-4a5c-b6e5-fd7164787f68",
   "metadata": {},
   "outputs": [],
   "source": []
  }
 ],
 "metadata": {
  "kernelspec": {
   "display_name": "Python 3 (ipykernel)",
   "language": "python",
   "name": "python3"
  },
  "language_info": {
   "codemirror_mode": {
    "name": "ipython",
    "version": 3
   },
   "file_extension": ".py",
   "mimetype": "text/x-python",
   "name": "python",
   "nbconvert_exporter": "python",
   "pygments_lexer": "ipython3",
   "version": "3.8.12"
  }
 },
 "nbformat": 4,
 "nbformat_minor": 5
}
