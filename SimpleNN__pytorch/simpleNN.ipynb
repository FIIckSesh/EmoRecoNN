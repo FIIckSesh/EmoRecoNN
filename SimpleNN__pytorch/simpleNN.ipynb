{
 "cells": [
  {
   "cell_type": "code",
   "execution_count": 263,
   "id": "a36a6e8b-07d5-4220-a437-d45486902337",
   "metadata": {},
   "outputs": [
    {
     "name": "stderr",
     "output_type": "stream",
     "text": [
      "/var/folders/8t/w_8kv55n25zdy7tz2vx3d7ww0000gn/T/ipykernel_30480/2630251241.py:15: FutureWarning: In a future version of pandas all arguments of DataFrame.drop except for the argument 'labels' will be keyword-only\n",
      "  df = df.drop('Unnamed: 0', 1)\n",
      "/var/folders/8t/w_8kv55n25zdy7tz2vx3d7ww0000gn/T/ipykernel_30480/2630251241.py:16: FutureWarning: In a future version of pandas all arguments of DataFrame.drop except for the argument 'labels' will be keyword-only\n",
      "  df = df.drop('mood.name', 1)\n",
      "/var/folders/8t/w_8kv55n25zdy7tz2vx3d7ww0000gn/T/ipykernel_30480/2630251241.py:19: FutureWarning: In a future version of pandas all arguments of DataFrame.drop except for the argument 'labels' will be keyword-only\n",
      "  df_test = df_test.drop('Unnamed: 0', 1)\n",
      "/var/folders/8t/w_8kv55n25zdy7tz2vx3d7ww0000gn/T/ipykernel_30480/2630251241.py:20: FutureWarning: In a future version of pandas all arguments of DataFrame.drop except for the argument 'labels' will be keyword-only\n",
      "  df_test = df_test.drop('mood.name', 1)\n"
     ]
    },
    {
     "data": {
      "text/plain": [
       "(torch.Size([128, 68]), torch.Size([128]))"
      ]
     },
     "execution_count": 263,
     "metadata": {},
     "output_type": "execute_result"
    }
   ],
   "source": [
    "import torch\n",
    "import pandas as pd\n",
    "from torchvision.datasets import MNIST\n",
    "import torchvision.transforms as tfs\n",
    "from sklearn.metrics import accuracy_score\n",
    "from torch import FloatTensor\n",
    "from torch.utils.data import DataLoader\n",
    "import numpy as np\n",
    "from torch.nn.functional import cross_entropy\n",
    "import matplotlib.pyplot as plt\n",
    "\n",
    "device = torch.device('cuda:0') if torch.cuda.is_available else torch.device('cpu')\n",
    "\n",
    "df = pd.read_csv(r'/Users/aleksandrcernysov/Desktop/SimpleNN/train_distance.csv', delimiter=',')\n",
    "df = df.drop('Unnamed: 0', 1)\n",
    "df = df.drop('mood.name', 1)\n",
    "\n",
    "df_test = pd.read_csv(r'/Users/aleksandrcernysov/Desktop/SimpleNN/test_distance.csv', delimiter=',')\n",
    "df_test = df_test.drop('Unnamed: 0', 1)\n",
    "df_test = df_test.drop('mood.name', 1)\n",
    "# train_X = torch.tensor(df.iloc[:,1:68].values)\n",
    "# train_y = torch.tensor(df.iloc[:,68:69].values)\n",
    "\n",
    "train_dataset = torch.utils.data.TensorDataset(torch.from_numpy(df.iloc[:,0:68].values), torch.from_numpy(df['mood.value'].values))\n",
    "test_dataset = torch.utils.data.TensorDataset(torch.from_numpy(df_test.iloc[:,0:68].values), torch.from_numpy(df_test['mood.value'].values))\n",
    "\n",
    "features = 68\n",
    "classes = 7\n",
    "epochs = 10000\n",
    "lr=0.03\n",
    "history = []\n",
    "\n",
    "W = torch.FloatTensor(features, classes).uniform_(-1, 1) / features**0.5\n",
    "W.requires_grad_()\n",
    "\n",
    "batch_size = 128\n",
    "\n",
    "train_loader = DataLoader(train_dataset, batch_size=batch_size, drop_last=True)\n",
    "test_loader = DataLoader(test_dataset, batch_size=batch_size, drop_last=True)\n",
    "\n",
    "\n",
    "x_batch, y_batch = next(iter(train_loader))\n",
    "x_batch.shape, y_batch.shape"
   ]
  },
  {
   "cell_type": "code",
   "execution_count": 264,
   "id": "6f23215b-0637-45d1-8a3b-09fdb5fd41f1",
   "metadata": {},
   "outputs": [
    {
     "name": "stdout",
     "output_type": "stream",
     "text": [
      "250,\t loss: 1.9692286297994364\n",
      "500,\t loss: 1.5584947407832437\n",
      "750,\t loss: 1.3645018765770984\n",
      "1000,\t loss: 1.2484050482430895\n",
      "1250,\t loss: 1.1686011707027846\n",
      "1500,\t loss: 1.1092620152884058\n",
      "1750,\t loss: 1.0629352339829254\n",
      "2000,\t loss: 1.0255337365877057\n",
      "2250,\t loss: 0.9945759165825032\n",
      "2500,\t loss: 0.9684563764372236\n",
      "2750,\t loss: 0.9460824741871203\n",
      "3000,\t loss: 0.9266782685788657\n",
      "3250,\t loss: 0.9096826554812151\n",
      "3500,\t loss: 0.8946730618405723\n",
      "3750,\t loss: 0.881323983303911\n",
      "4000,\t loss: 0.8693789321840829\n",
      "4250,\t loss: 0.8586347674190522\n",
      "4500,\t loss: 0.8489277423931216\n",
      "4750,\t loss: 0.8401168427077383\n",
      "5000,\t loss: 0.8320908399071216\n",
      "5250,\t loss: 0.8247581112335634\n",
      "5500,\t loss: 0.8180311118406416\n",
      "5750,\t loss: 0.8118470499737307\n",
      "6000,\t loss: 0.8061450925413652\n",
      "6250,\t loss: 0.8008727640805653\n",
      "6500,\t loss: 0.7959849008454246\n",
      "6750,\t loss: 0.7914470914707032\n",
      "7000,\t loss: 0.7872243981352083\n",
      "7250,\t loss: 0.7832851317560809\n",
      "7500,\t loss: 0.779604236556812\n",
      "7750,\t loss: 0.7761589376376419\n",
      "8000,\t loss: 0.7729266547271234\n",
      "8250,\t loss: 0.7698909250255771\n",
      "8500,\t loss: 0.7670351146922956\n",
      "8750,\t loss: 0.7643424378336388\n",
      "9000,\t loss: 0.7618026365056019\n",
      "9250,\t loss: 0.759401244336946\n",
      "9500,\t loss: 0.7571298083758838\n",
      "9750,\t loss: 0.7549759205275974\n",
      "10000,\t loss: 0.7529328580415093\n"
     ]
    }
   ],
   "source": [
    "for i in range(epochs):\n",
    "  for x_batch, y_batch in train_loader:\n",
    "    # load batches of data correctly\n",
    "    x_batch = x_batch.reshape(x_batch.shape[0], -1)\n",
    "\n",
    "    # compute loss (log loss a.k.a. cross entropy)\n",
    "    logits = x_batch @ W.double()\n",
    "    probabilities = torch.exp(logits) / torch.exp(logits).sum(dim=1, keepdims=True)\n",
    "    \n",
    "    loss = -torch.log(probabilities[range(batch_size), y_batch]).mean()\n",
    "    history.append(loss.item())\n",
    "\n",
    "    # calc gradients\n",
    "    loss.backward()\n",
    "\n",
    "    # step of gradient descent\n",
    "    grad = W.grad\n",
    "    with torch.no_grad():\n",
    "      W -= lr * grad\n",
    "    W.grad.zero_()\n",
    "\n",
    "  if (i + 1) % 250 == 0:\n",
    "    print(f'{i+1},\\t loss: {history[-1]}')"
   ]
  },
  {
   "cell_type": "code",
   "execution_count": 265,
   "id": "95c07990-9ba7-4422-96cc-3b0d17c6b410",
   "metadata": {},
   "outputs": [
    {
     "data": {
      "image/png": "[encoded data removed]",
      "text/plain": [
       "<Figure size 720x504 with 1 Axes>"
      ]
     },
     "metadata": {
      "needs_background": "light"
     },
     "output_type": "display_data"
    }
   ],
   "source": [
    "plt.figure(figsize=(10, 7))\n",
    "\n",
    "plt.plot(history)\n",
    "\n",
    "plt.title('Loss by batch iterations')\n",
    "plt.ylabel('Entropy Loss')\n",
    "plt.xlabel('batches')\n",
    "\n",
    "plt.show()"
   ]
  },
  {
   "cell_type": "code",
   "execution_count": 266,
   "id": "06abdd1c-cd98-4ced-97cf-541eab9259c0",
   "metadata": {},
   "outputs": [
    {
     "name": "stdout",
     "output_type": "stream",
     "text": [
      "Test accuracy 0.633\n"
     ]
    }
   ],
   "source": [
    "acc = 0\n",
    "batches = 0\n",
    "\n",
    "for x_batch, y_batch in test_loader:\n",
    "  # load batches of data correctly\n",
    "  batches += 1\n",
    "  x_batch = x_batch.view(x_batch.shape[0], -1)\n",
    "  y_batch = y_batch\n",
    "\n",
    "  preds = torch.argmax(x_batch @ W.double(), dim=1)\n",
    "  acc += (preds==y_batch).cpu().numpy().mean()\n",
    "\n",
    "print(f'Test accuracy {acc / batches:.3}')"
   ]
  },
  {
   "cell_type": "code",
   "execution_count": 267,
   "id": "bc600244-8a28-4d9a-96a4-d11d65fee806",
   "metadata": {},
   "outputs": [
    {
     "data": {
      "text/plain": [
       "0.01"
      ]
     },
     "execution_count": 267,
     "metadata": {},
     "output_type": "execute_result"
    }
   ],
   "source": [
    "1e-2"
   ]
  },
  {
   "cell_type": "code",
   "execution_count": null,
   "id": "38aed737-930d-4b09-b6af-989677eb8eee",
   "metadata": {},
   "outputs": [],
   "source": []
  },
  {
   "cell_type": "code",
   "execution_count": null,
   "id": "113d54c1-b7eb-4c12-be94-e0f0b42cc496",
   "metadata": {},
   "outputs": [],
   "source": []
  }
 ],
 "metadata": {
  "kernelspec": {
   "display_name": "Python 3 (ipykernel)",
   "language": "python",
   "name": "python3"
  },
  "language_info": {
   "codemirror_mode": {
    "name": "ipython",
    "version": 3
   },
   "file_extension": ".py",
   "mimetype": "text/x-python",
   "name": "python",
   "nbconvert_exporter": "python",
   "pygments_lexer": "ipython3",
   "version": "3.8.12"
  }
 },
 "nbformat": 4,
 "nbformat_minor": 5
}
