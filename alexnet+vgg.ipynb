{
 "cells": [
  {
   "cell_type": "code",
   "execution_count": 7,
   "id": "0fbb213f-d3e5-4453-bbfd-7f5d812a7730",
   "metadata": {},
   "outputs": [],
   "source": [
    "import os\n",
    "\n",
    "from tqdm import tqdm_notebook, trange, tqdm\n",
    "import torch\n",
    "import torch.nn as nn\n",
    "import torch.optim as optim\n",
    "from torch.optim import lr_scheduler\n",
    "\n",
    "import numpy as np\n",
    "import torchvision\n",
    "\n",
    "from torchvision import datasets, models, transforms\n",
    "import matplotlib.pyplot as plt\n",
    "import time"
   ]
  },
  {
   "cell_type": "code",
   "execution_count": 18,
   "id": "d6947e74-8959-47ef-a250-8c98d4aeecaf",
   "metadata": {
    "tags": []
   },
   "outputs": [],
   "source": [
    "data_transforms = {\n",
    "    'train': transforms.Compose([\n",
    "        transforms.Resize((312, 440)),\n",
    "        transforms.RandomHorizontalFlip(),\n",
    "        transforms.ToTensor(),\n",
    "        transforms.Normalize([0.485, 0.456, 0.406], [0.229, 0.224, 0.225])\n",
    "    ]),\n",
    "    'test': transforms.Compose([\n",
    "        transforms.Resize((312, 440)),\n",
    "        transforms.CenterCrop(244),\n",
    "        transforms.ToTensor(),\n",
    "        transforms.Normalize([0.485, 0.456, 0.406], [0.229, 0.224, 0.225])\n",
    "    ]),\n",
    "}\n",
    "# папка с данными. Если запускаете в колабе, нужно скопировать данные к себе в директорию и примонтировать диск. Если запускаете локально -- просто скачайте данные\n",
    "data_dir = './data_emo'\n",
    "image_datasets = {x: datasets.ImageFolder(os.path.join(data_dir, x),\n",
    "                                          data_transforms[x])\n",
    "                  for x in ['train', 'test']}\n",
    "# специальный класс для загрузки данных в виде батчей\n",
    "dataloaders = {x: torch.utils.data.DataLoader(image_datasets[x], batch_size=4,\n",
    "                                              shuffle=True, num_workers=2)\n",
    "               for x in ['train', 'test']}\n",
    "dataset_sizes = {x: len(image_datasets[x]) for x in ['train', 'test']}\n",
    "class_names = image_datasets['train'].classes\n",
    "\n",
    "use_gpu = torch.cuda.is_available()"
   ]
  },
  {
   "cell_type": "code",
   "execution_count": 19,
   "id": "f7a85c64-f75f-4c06-a0f4-17e125f1b072",
   "metadata": {
    "tags": []
   },
   "outputs": [
    {
     "name": "stdout",
     "output_type": "stream",
     "text": [
      "{'train': 2037, 'test': 140}\n"
     ]
    }
   ],
   "source": [
    "print(dataset_sizes)"
   ]
  },
  {
   "cell_type": "code",
   "execution_count": 21,
   "id": "c6303ef0-1c64-4f81-a60e-958ba107ec12",
   "metadata": {},
   "outputs": [
    {
     "name": "stdout",
     "output_type": "stream",
     "text": [
      "tensor([[[1.7009, 1.6838, 1.6495,  ..., 1.7694, 1.7865, 1.7694],\n",
      "         [1.6838, 1.6838, 1.6838,  ..., 1.7865, 1.7865, 1.7694],\n",
      "         [1.6838, 1.7009, 1.7009,  ..., 1.8037, 1.8037, 1.8037],\n",
      "         ...,\n",
      "         [1.5297, 1.5297, 1.5297,  ..., 1.6495, 1.6495, 1.6324],\n",
      "         [1.5125, 1.5297, 1.5297,  ..., 1.6495, 1.6495, 1.6324],\n",
      "         [1.5125, 1.5125, 1.5125,  ..., 1.6667, 1.6667, 1.6667]],\n",
      "\n",
      "        [[1.8683, 1.8508, 1.8508,  ..., 1.9384, 1.9559, 1.9384],\n",
      "         [1.8508, 1.8508, 1.8508,  ..., 1.9384, 1.9384, 1.9209],\n",
      "         [1.8508, 1.8683, 1.8683,  ..., 1.9384, 1.9384, 1.9384],\n",
      "         ...,\n",
      "         [1.6583, 1.6583, 1.6583,  ..., 1.8158, 1.8158, 1.7983],\n",
      "         [1.6408, 1.6583, 1.6583,  ..., 1.8158, 1.8158, 1.7983],\n",
      "         [1.6408, 1.6408, 1.6408,  ..., 1.7983, 1.7983, 1.7983]],\n",
      "\n",
      "        [[2.1171, 2.0997, 2.0823,  ..., 2.1520, 2.1694, 2.1520],\n",
      "         [2.0997, 2.0997, 2.0997,  ..., 2.1694, 2.1694, 2.1520],\n",
      "         [2.0997, 2.1171, 2.1171,  ..., 2.1694, 2.1694, 2.1694],\n",
      "         ...,\n",
      "         [1.9254, 1.9254, 1.9254,  ..., 2.0300, 2.0300, 2.0125],\n",
      "         [1.9080, 1.9254, 1.9254,  ..., 2.0300, 2.0300, 2.0125],\n",
      "         [1.9080, 1.9080, 1.9080,  ..., 2.0300, 2.0300, 2.0300]]])\n"
     ]
    }
   ],
   "source": [
    "for i in dataloaders['train']:\n",
    "    print(i[0][0])\n",
    "    break"
   ]
  },
  {
   "cell_type": "code",
   "execution_count": 18,
   "id": "cfa8c8d3-a06d-489c-b2d7-b6362059c0b5",
   "metadata": {},
   "outputs": [],
   "source": [
    "def train_model(model, criterion, optimizer, scheduler, num_epochs=25):\n",
    "    since = time.time()\n",
    "\n",
    "    best_model_wts = model.state_dict()\n",
    "    best_acc = 0.0\n",
    "    \n",
    "    #Ваш код здесь\n",
    "    losses = {'train': [], \"test\": []}\n",
    "\n",
    "    pbar = trange(num_epochs, desc=\"Epoch:\")\n",
    "\n",
    "    for epoch in pbar:\n",
    "\n",
    "        # каждя эпоха имеет обучающую и тестовую стадии\n",
    "        for phase in ['train', 'test']:\n",
    "            if phase == 'train':\n",
    "                scheduler.step()\n",
    "                model.train(True)  # установаить модель в режим обучения\n",
    "            else:\n",
    "                model.eval()\n",
    "\n",
    "            running_loss = 0.0\n",
    "            running_corrects = 0\n",
    "\n",
    "            # итерируемся по батчам\n",
    "            for data in tqdm_notebook(dataloaders[phase]):\n",
    "                # получаем картинки и метки\n",
    "                inputs, labels = data\n",
    "\n",
    "                # оборачиваем в переменные\n",
    "                if use_gpu:\n",
    "                    inputs = inputs.cuda()\n",
    "                    labels = labels.cuda()\n",
    "                else:\n",
    "                    inputs, labels = inputs, labels\n",
    "\n",
    "                # инициализируем градиенты параметров\n",
    "                if phase==\"train\":\n",
    "                    optimizer.zero_grad()\n",
    "\n",
    "                # forward pass\n",
    "                if phase == \"eval\":\n",
    "                    with torch.no_grad():\n",
    "                        outputs = model(inputs)\n",
    "                else:\n",
    "                    outputs = model(inputs)\n",
    "                preds = torch.argmax(outputs, -1)\n",
    "                loss = criterion(outputs, labels)\n",
    "\n",
    "                # backward pass + оптимизируем только если это стадия обучения\n",
    "                if phase == 'train':\n",
    "                    loss.backward()\n",
    "                    optimizer.step()\n",
    "\n",
    "                # статистика\n",
    "                running_loss += loss.item()\n",
    "                running_corrects += int(torch.sum(preds == labels.data))\n",
    "\n",
    "            epoch_loss = running_loss / dataset_sizes[phase]\n",
    "            epoch_acc = running_corrects / dataset_sizes[phase]\n",
    "            \n",
    "            # Ваш код здесь\n",
    "            losses[phase].append(epoch_loss)\n",
    "            \n",
    "            pbar.set_description('{} Loss: {:.4f} Acc: {:.4f}'.format(\n",
    "                                    phase, epoch_loss, epoch_acc\n",
    "                                ))\n",
    "\n",
    "            # если достиглось лучшее качество, то запомним веса модели\n",
    "            if phase == 'test' and epoch_acc > best_acc:\n",
    "                best_acc = epoch_acc\n",
    "                best_model_wts = model.state_dict()\n",
    "\n",
    "    time_elapsed = time.time() - since\n",
    "    print('Training complete in {:.0f}m {:.0f}s'.format(\n",
    "        time_elapsed // 60, time_elapsed % 60))\n",
    "    print('Best val Acc: {:4f}'.format(best_acc))\n",
    "\n",
    "    # загрузим лучшие веса модели\n",
    "    model.load_state_dict(best_model_wts)\n",
    "    return model, losses"
   ]
  },
  {
   "cell_type": "code",
   "execution_count": 19,
   "id": "673860bc-0626-4fe2-b0bf-95c8e9fa35c8",
   "metadata": {
    "tags": []
   },
   "outputs": [],
   "source": [
    "def visualize_model(model, num_images=6):\n",
    "    images_so_far = 0\n",
    "    fig = plt.figure()\n",
    "\n",
    "    for i, data in enumerate(dataloaders['test']):\n",
    "        inputs, labels = data\n",
    "        if use_gpu:\n",
    "            inputs, labels = Variable(inputs.cuda()), Variable(labels.cuda())\n",
    "        else:\n",
    "            inputs, labels = Variable(inputs), Variable(labels)\n",
    "\n",
    "        outputs = model(inputs)\n",
    "        _, preds = torch.max(outputs.data, 1)\n",
    "\n",
    "        for j in range(inputs.size()[0]):\n",
    "            images_so_far += 1\n",
    "            ax = plt.subplot(num_images // 2, 2, images_so_far)\n",
    "            ax.axis('off')\n",
    "            ax.set_title('predicted: {}'.format(class_names[preds[j]]))\n",
    "            imshow(inputs.cpu().data[j])\n",
    "\n",
    "            if images_so_far == num_images:\n",
    "                return"
   ]
  },
  {
   "cell_type": "code",
   "execution_count": 20,
   "id": "5dbbe569-c528-4bfb-86aa-5eb21e074ee6",
   "metadata": {},
   "outputs": [],
   "source": [
    "def evaluate(model):\n",
    "    model.eval()\n",
    "    \n",
    "    runninig_correct = 0\n",
    "    for data in dataloaders['test']:\n",
    "        # получаем картинки и метки\n",
    "        inputs, labels = data\n",
    "        \n",
    "        # переносим на gpu, если возможно\n",
    "        if use_gpu:\n",
    "            inputs = inputs.cuda()\n",
    "            labels = labels.cuda()\n",
    "            \n",
    "        # forard pass\n",
    "        output = model(inputs)\n",
    "        _, predicted = torch.max(output, 1)\n",
    "        \n",
    "        runninig_correct += int(torch.sum(predicted == labels))\n",
    "        \n",
    "    return runninig_correct / dataset_sizes['test']"
   ]
  },
  {
   "cell_type": "code",
   "execution_count": 34,
   "id": "ef25cc69-6738-42c7-9b59-46260f495e7f",
   "metadata": {},
   "outputs": [],
   "source": [
    "model = models.alexnet(pretrained=True)"
   ]
  },
  {
   "cell_type": "code",
   "execution_count": 44,
   "id": "5922ad2d-5922-4a5c-b6e5-fd7164787f68",
   "metadata": {},
   "outputs": [
    {
     "data": {
      "text/plain": [
       "AlexNet(\n",
       "  (features): Sequential(\n",
       "    (0): Conv2d(3, 64, kernel_size=(11, 11), stride=(4, 4), padding=(2, 2))\n",
       "    (1): ReLU(inplace=True)\n",
       "    (2): MaxPool2d(kernel_size=3, stride=2, padding=0, dilation=1, ceil_mode=False)\n",
       "    (3): Conv2d(64, 192, kernel_size=(5, 5), stride=(1, 1), padding=(2, 2))\n",
       "    (4): ReLU(inplace=True)\n",
       "    (5): MaxPool2d(kernel_size=3, stride=2, padding=0, dilation=1, ceil_mode=False)\n",
       "    (6): Conv2d(192, 384, kernel_size=(3, 3), stride=(1, 1), padding=(1, 1))\n",
       "    (7): ReLU(inplace=True)\n",
       "    (8): Conv2d(384, 256, kernel_size=(3, 3), stride=(1, 1), padding=(1, 1))\n",
       "    (9): ReLU(inplace=True)\n",
       "    (10): Conv2d(256, 256, kernel_size=(3, 3), stride=(1, 1), padding=(1, 1))\n",
       "    (11): ReLU(inplace=True)\n",
       "    (12): MaxPool2d(kernel_size=3, stride=2, padding=0, dilation=1, ceil_mode=False)\n",
       "  )\n",
       "  (avgpool): AdaptiveAvgPool2d(output_size=(6, 6))\n",
       "  (classifier): Linear(in_features=9216, out_features=7, bias=True)\n",
       ")"
      ]
     },
     "execution_count": 44,
     "metadata": {},
     "output_type": "execute_result"
    }
   ],
   "source": [
    "model"
   ]
  },
  {
   "cell_type": "code",
   "execution_count": 45,
   "id": "73b0b2a2-7923-40df-8ffc-29815aa87355",
   "metadata": {},
   "outputs": [],
   "source": [
    "# num_features -- это размерность вектора фич, поступающего на вход FC-слою\n",
    "num_features = 9216\n",
    "# Заменяем Fully-Connected слой на наш линейный классификатор\n",
    "model.classifier = nn.Linear(num_features, 7)\n",
    "\n",
    "# Использовать ли GPU\n",
    "if use_gpu:\n",
    "    model = model.cuda()\n",
    "\n",
    "# В качестве cost function используем кросс-энтропию\n",
    "loss_fn = nn.CrossEntropyLoss()\n",
    "\n",
    "# В качестве оптимизатора - стохастический градиентный спуск\n",
    "optimizer_ft = optim.Adam(model.parameters(), lr=1e-4)\n",
    "\n",
    "# Умножает learning_rate на 0.1 каждые 7 эпох (это одна из эвристик, не было на лекциях)\n",
    "exp_lr_scheduler = lr_scheduler.StepLR(optimizer_ft, step_size=7, gamma=0.1)"
   ]
  },
  {
   "cell_type": "code",
   "execution_count": null,
   "id": "9129aacc-91cd-4aab-9617-1e0285ff345c",
   "metadata": {
    "tags": []
   },
   "outputs": [],
   "source": [
    "model, losses = train_model(model, loss_fn, optimizer_ft, exp_lr_scheduler, num_epochs=25)"
   ]
  },
  {
   "cell_type": "code",
   "execution_count": 49,
   "id": "501dfeea-1a2d-4799-a261-f4363cb87b99",
   "metadata": {},
   "outputs": [
    {
     "name": "stdout",
     "output_type": "stream",
     "text": [
      "Accuracy: 0.7714\n"
     ]
    }
   ],
   "source": [
    "print(\"Accuracy: {0:.4f}\".format(evaluate(model)))"
   ]
  },
  {
   "cell_type": "code",
   "execution_count": 48,
   "id": "5640ce38-0d56-436b-ba1a-e50a91a0aef7",
   "metadata": {},
   "outputs": [
    {
     "data": {
      "image/png": "[encoded data removed]",
      "text/plain": [
       "<Figure size 864x576 with 1 Axes>"
      ]
     },
     "metadata": {},
     "output_type": "display_data"
    }
   ],
   "source": [
    "import seaborn as sns\n",
    "\n",
    "sns.set(style=\"whitegrid\", font_scale=1.4)\n",
    "\n",
    "# Построим график лосса при обучении и валидации\n",
    "\n",
    "#Ваш код здесь\n",
    "plt.figure(figsize=(12, 8))\n",
    "plt.plot(losses['train'], label=\"train\")\n",
    "plt.plot(losses['test'], label=\"test\")\n",
    "plt.legend()\n",
    "plt.show()"
   ]
  },
  {
   "cell_type": "code",
   "execution_count": 50,
   "id": "01c138ae-83e7-400a-81a4-7ed71bc2cce1",
   "metadata": {},
   "outputs": [],
   "source": [
    "torch.save(model.state_dict(), 'AlexNet_fine_tune.pth')"
   ]
  },
  {
   "cell_type": "code",
   "execution_count": null,
   "id": "b76accda-5afd-4136-94b8-e379cf00d516",
   "metadata": {},
   "outputs": [],
   "source": [
    "model_extractor = models.alexnet(pretrained=True)"
   ]
  },
  {
   "cell_type": "code",
   "execution_count": 52,
   "id": "f10f59f0-5a78-4230-85c0-41698e9ee795",
   "metadata": {},
   "outputs": [
    {
     "name": "stdout",
     "output_type": "stream",
     "text": [
      "True\n",
      "True\n",
      "True\n",
      "True\n",
      "True\n",
      "True\n",
      "True\n",
      "True\n",
      "True\n",
      "True\n",
      "True\n",
      "True\n",
      "True\n",
      "True\n",
      "True\n",
      "True\n"
     ]
    }
   ],
   "source": [
    "for param in model_extractor.parameters():\n",
    "    print(param.requires_grad)"
   ]
  },
  {
   "cell_type": "code",
   "execution_count": 53,
   "id": "e217a2cd-9424-4c6e-9c68-804794482d66",
   "metadata": {},
   "outputs": [],
   "source": [
    "# замораживаем параметры (веса)\n",
    "for param in model_extractor.parameters():\n",
    "    param.requires_grad = False\n",
    "\n",
    "# num_features -- это размерность вектора фич, поступающего на вход FC-слою\n",
    "num_features = 9216\n",
    "# Заменяем Fully-Connected слой на наш линейный классификатор\n",
    "model_extractor.classifier = nn.Linear(num_features, 7)\n",
    "\n",
    "# Использовать ли GPU\n",
    "if use_gpu:\n",
    "    model_extractor = model_extractor.cuda()\n",
    "\n",
    "# В качестве cost function используем кросс-энтропию\n",
    "loss_fn = nn.CrossEntropyLoss()\n",
    "\n",
    "# Обучаем только классификатор\n",
    "optimizer = optim.Adam(model_extractor.classifier.parameters(), lr=1e-4)\n",
    "\n",
    "# Умножает learning_rate на 0.1 каждые 7 эпох (это одна из эвристик, не было на лекциях)\n",
    "exp_lr_scheduler = lr_scheduler.StepLR(optimizer, step_size=7, gamma=0.1)"
   ]
  },
  {
   "cell_type": "code",
   "execution_count": null,
   "id": "167c8044-0c24-419a-92b1-600e931d0d7e",
   "metadata": {
    "tags": []
   },
   "outputs": [],
   "source": [
    "%%time\n",
    "model_extractor,losses = train_model(model_extractor, loss_fn, optimizer, exp_lr_scheduler, num_epochs=25)"
   ]
  },
  {
   "cell_type": "code",
   "execution_count": 55,
   "id": "f1c31b0d-78d7-4382-b81a-33df7500b255",
   "metadata": {},
   "outputs": [
    {
     "name": "stdout",
     "output_type": "stream",
     "text": [
      "Accuracy: 0.4857\n"
     ]
    }
   ],
   "source": [
    "print(\"Accuracy: {0:.4f}\".format(evaluate(model_extractor)))"
   ]
  },
  {
   "cell_type": "code",
   "execution_count": 56,
   "id": "b12d6713-650d-4c7d-b41e-d17620812ecd",
   "metadata": {},
   "outputs": [
    {
     "data": {
      "image/png": "[encoded data removed]",
      "text/plain": [
       "<Figure size 864x576 with 1 Axes>"
      ]
     },
     "metadata": {},
     "output_type": "display_data"
    }
   ],
   "source": [
    "sns.set(style=\"whitegrid\", font_scale=1.4)\n",
    "\n",
    "# Построим график лосса при обучении и валидации\n",
    "\n",
    "#Ваш код здесь\n",
    "plt.figure(figsize=(12, 8))\n",
    "plt.plot(losses['train'], label=\"train\")\n",
    "plt.plot(losses['test'], label=\"test\")\n",
    "plt.legend()\n",
    "plt.show()"
   ]
  },
  {
   "cell_type": "code",
   "execution_count": 57,
   "id": "b0382e75-f577-4a49-ab5b-c483a759acc8",
   "metadata": {},
   "outputs": [],
   "source": [
    "model_mixed = models.alexnet(pretrained=True)"
   ]
  },
  {
   "cell_type": "code",
   "execution_count": 58,
   "id": "b389a617-0ff1-44f0-a1a3-3cd3b5ea2fe3",
   "metadata": {},
   "outputs": [],
   "source": [
    "layers_to_unfreeze = 5\n",
    "\n",
    "# Выключаем подсчет градиентов для слоев, которые не будем обучать\n",
    "for param in model_mixed.features[:-layers_to_unfreeze].parameters():\n",
    "    param.requires_grad = False\n",
    "    \n",
    "# num_features -- это размерность вектора фич, поступающего на вход FC-слою\n",
    "num_features = 9216\n",
    "# Заменяем Fully-Connected слой на наш линейный классификатор\n",
    "model_mixed.classifier = nn.Linear(num_features, 7)\n",
    "\n",
    "# Использовать ли GPU\n",
    "if use_gpu:\n",
    "    model_mixed = model_mixed.cuda()\n",
    "\n",
    "# В качестве cost function используем кросс-энтропию\n",
    "loss_fn = nn.CrossEntropyLoss()\n",
    "\n",
    "# Обучаем последние layers_to_unfreeze слоев из сверточной части и fully connected слой \n",
    "# parameters() возвращает просто список тензоров парамтеров, поэтому два таких списка можно сложить\n",
    "optimizer = optim.Adam(list(model_mixed.features.parameters())[-layers_to_unfreeze:] + \n",
    "                      list(model_mixed.classifier.parameters()), lr=1e-4)\n",
    "\n",
    "# Умножает learning_rate на 0.1 каждые 7 эпох (это одна из эвристик, не было на лекциях)\n",
    "exp_lr_scheduler = lr_scheduler.StepLR(optimizer, step_size=7, gamma=0.1)"
   ]
  },
  {
   "cell_type": "code",
   "execution_count": null,
   "id": "faf06c9e-e00d-4842-bf8b-8c80244d990c",
   "metadata": {},
   "outputs": [],
   "source": [
    "%%time\n",
    "_, losses = train_model(model_mixed, loss_fn, optimizer, exp_lr_scheduler, num_epochs=25)"
   ]
  },
  {
   "cell_type": "code",
   "execution_count": 60,
   "id": "627c26b8-a413-44a1-ba1f-76147130c706",
   "metadata": {},
   "outputs": [
    {
     "name": "stdout",
     "output_type": "stream",
     "text": [
      "Accuracy: 0.6643\n"
     ]
    }
   ],
   "source": [
    "print(\"Accuracy: {0:.4f}\".format(evaluate(model_mixed)))"
   ]
  },
  {
   "cell_type": "code",
   "execution_count": 61,
   "id": "21cd48e3-cbee-4638-baf8-4bb79bcade25",
   "metadata": {},
   "outputs": [],
   "source": [
    "model_diff_lr = models.alexnet(pretrained=True)\n",
    "\n",
    "model_diff_lr.classifier = nn.Linear(num_features, 7)\n",
    "\n",
    "optimizer = torch.optim.Adam(params=[\n",
    "        {\"params\": model_diff_lr.classifier.parameters()},\n",
    "        {\"params\": model_diff_lr.features.parameters(), \"lr\": 1e-5,}\n",
    "    ], \n",
    "    lr=1e-4\n",
    ")\n",
    "\n",
    "criterion = nn.CrossEntropyLoss()\n",
    "\n",
    "\n",
    "# Умножает learning_rate на 0.1 каждые 7 эпох (это одна из эвристик, не было на лекциях)\n",
    "exp_lr_scheduler = lr_scheduler.StepLR(optimizer, step_size=7, gamma=0.1)"
   ]
  },
  {
   "cell_type": "code",
   "execution_count": 63,
   "id": "1185cb83-721a-42c3-9e6c-5daa047e42f5",
   "metadata": {},
   "outputs": [
    {
     "data": {
      "text/plain": [
       "AlexNet(\n",
       "  (features): Sequential(\n",
       "    (0): Conv2d(3, 64, kernel_size=(11, 11), stride=(4, 4), padding=(2, 2))\n",
       "    (1): ReLU(inplace=True)\n",
       "    (2): MaxPool2d(kernel_size=3, stride=2, padding=0, dilation=1, ceil_mode=False)\n",
       "    (3): Conv2d(64, 192, kernel_size=(5, 5), stride=(1, 1), padding=(2, 2))\n",
       "    (4): ReLU(inplace=True)\n",
       "    (5): MaxPool2d(kernel_size=3, stride=2, padding=0, dilation=1, ceil_mode=False)\n",
       "    (6): Conv2d(192, 384, kernel_size=(3, 3), stride=(1, 1), padding=(1, 1))\n",
       "    (7): ReLU(inplace=True)\n",
       "    (8): Conv2d(384, 256, kernel_size=(3, 3), stride=(1, 1), padding=(1, 1))\n",
       "    (9): ReLU(inplace=True)\n",
       "    (10): Conv2d(256, 256, kernel_size=(3, 3), stride=(1, 1), padding=(1, 1))\n",
       "    (11): ReLU(inplace=True)\n",
       "    (12): MaxPool2d(kernel_size=3, stride=2, padding=0, dilation=1, ceil_mode=False)\n",
       "  )\n",
       "  (avgpool): AdaptiveAvgPool2d(output_size=(6, 6))\n",
       "  (classifier): Linear(in_features=9216, out_features=7, bias=True)\n",
       ")"
      ]
     },
     "execution_count": 63,
     "metadata": {},
     "output_type": "execute_result"
    }
   ],
   "source": [
    "model_diff_lr.to(\"cpu\")"
   ]
  },
  {
   "cell_type": "code",
   "execution_count": null,
   "id": "c0449024-dc9e-49e1-9d95-5a365f0c90af",
   "metadata": {},
   "outputs": [],
   "source": [
    "_, losses = train_model(model_diff_lr, criterion, optimizer, exp_lr_scheduler, num_epochs=25)"
   ]
  },
  {
   "cell_type": "code",
   "execution_count": 65,
   "id": "518188bf-479d-4376-ae1c-433bb64f5818",
   "metadata": {},
   "outputs": [
    {
     "name": "stdout",
     "output_type": "stream",
     "text": [
      "Accuracy: 0.6286\n"
     ]
    }
   ],
   "source": [
    "print(\"Accuracy: {0:.4f}\".format(evaluate(model_diff_lr)))"
   ]
  },
  {
   "cell_type": "code",
   "execution_count": null,
   "id": "53e781b5-14a1-4803-9c0f-fdfe70888fd7",
   "metadata": {
    "tags": []
   },
   "outputs": [],
   "source": [
    "# Ваш код здесь\n",
    "model_extractor = models.vgg16(pretrained=True)\n",
    "\n",
    "# замораживаем параметры (веса)\n",
    "for param in model_extractor.parameters():\n",
    "    param.requires_grad = False\n",
    "\n",
    "# num_features -- это размерность вектора фич, поступающего на вход FC-слою\n",
    "num_features = 25088\n",
    "# Заменяем Fully-Connected слой на наш линейный классификатор\n",
    "model_extractor.classifier = nn.Linear(num_features, 7)\n",
    "\n",
    "# Использовать ли GPU\n",
    "if use_gpu:\n",
    "    model_extractor = model_extractor.cuda()\n",
    "\n",
    "# В качестве cost function используем кросс-энтропию\n",
    "loss_fn = nn.CrossEntropyLoss()\n",
    "\n",
    "# Обучаем только классификатор\n",
    "optimizer = optim.SGD(model_extractor.classifier.parameters(), lr=0.001, momentum=0.9)\n",
    "\n",
    "# Умножает learning_rate на 0.1 каждые 7 эпох (это одна из эвристик, не было на лекциях)\n",
    "exp_lr_scheduler = lr_scheduler.StepLR(optimizer, step_size=7, gamma=0.1)"
   ]
  },
  {
   "cell_type": "code",
   "execution_count": null,
   "id": "3fdc2f0b-7cd6-4f6c-ba49-7bd8c18dc3c3",
   "metadata": {},
   "outputs": [],
   "source": [
    "model_extractor, losses = train_model(model_extractor, loss_fn, optimizer, exp_lr_scheduler, num_epochs=25)"
   ]
  },
  {
   "cell_type": "code",
   "execution_count": 68,
   "id": "a7c3a20c-fc75-4d38-99af-d510bd249d9d",
   "metadata": {},
   "outputs": [
    {
     "name": "stdout",
     "output_type": "stream",
     "text": [
      "Accuracy: 0.5000\n"
     ]
    }
   ],
   "source": [
    "print(\"Accuracy: {0:.4f}\".format(evaluate(model_extractor)))"
   ]
  },
  {
   "cell_type": "code",
   "execution_count": null,
   "id": "45b03fd7-7290-4633-90ca-26040fd547cd",
   "metadata": {},
   "outputs": [],
   "source": []
  }
 ],
 "metadata": {
  "kernelspec": {
   "display_name": "Python 3 (ipykernel)",
   "language": "python",
   "name": "python3"
  },
  "language_info": {
   "codemirror_mode": {
    "name": "ipython",
    "version": 3
   },
   "file_extension": ".py",
   "mimetype": "text/x-python",
   "name": "python",
   "nbconvert_exporter": "python",
   "pygments_lexer": "ipython3",
   "version": "3.8.12"
  }
 },
 "nbformat": 4,
 "nbformat_minor": 5
}
